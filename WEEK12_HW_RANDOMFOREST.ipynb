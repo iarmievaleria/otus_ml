{
 "cells": [
  {
   "cell_type": "markdown",
   "metadata": {},
   "source": [
    "Построение и настройка модели случайного леса. Визуализация важности признаков.\n",
    "Цель: В этом задании вам предстоит научиться предсказывать судьбу животных в приюте. Найдут ли их прежние хозяева? Заберут ли их домой к новым? Или судьба будет не так благосклонна? Ответ найдём в лесу\n",
    "1. Скачиваем данные вот отсюда - https://www.kaggle.com/c/shelter-animal-outcomes/data\n",
    "2. Знакомимся с данными, целевой переменной будет OutcomeType, соответственно OutcomeSubType необходимо выкинуть из данных\n",
    "3. Как можно заметить, почти все переменные текстовые/категориальные - смиряемся с тем, что нужно будет пилить много новых признаков\n",
    "4. Делим данные на train/test, чтобы все преобразования, связанные с построением новых признаков, мы обучали только на трейне, а применяли уже везде\n",
    "5. Выкидываем ID, потому что не нужОн, всё, что категориальное и с небольшим числом уникальных значений кодируем при помощи LabelEncoder (заодно можно объяснить, почему достаточно использовать LabelEncoder вместо OneHotEncoder)\n",
    "6. Остальные текстовые переменные, где очень много уникальных значений (вроде имени или цвета), можно закодировать по вашему вкусу, можно использовать частоту встречаемости, можно попробовать закодировать отдельные цвета LabelEncoder, и т.д.\n",
    "7. Наконец, очень полезно будет на основании AgeuponOutcome создать обычную непрерывную переменную - возраст животного, а из переменной DateTime подергать отдельно год, месяц и день недели\n",
    "8. Делаем бейзлайн на основании частоты встречаемости каждого класса, а затем учим лес и сравниваем качество (полезно будет смотреть на confusion_matrix и classification_report)\n",
    "9. Настраиваем основные параметры леса при помощи randomsearch - n_estimators, max_depth, и еще можно class_weight\n",
    "10. Визуализируем важность признаков\n",
    "11. Вы великолепны\n",
    "\n",
    "Критерии оценки: Вся предобработка - 6 баллов\n",
    "Модельки и важность - еще 4 балла"
   ]
  },
  {
   "cell_type": "code",
   "execution_count": 1,
   "metadata": {},
   "outputs": [],
   "source": [
    "import numpy as np \n",
    "import pandas as pd \n",
    "import matplotlib.pyplot as plt \n",
    "%matplotlib inline \n",
    "import seaborn as sns"
   ]
  },
  {
   "cell_type": "code",
   "execution_count": 2,
   "metadata": {},
   "outputs": [],
   "source": [
    "data = pd.read_csv('train.csv')"
   ]
  },
  {
   "cell_type": "code",
   "execution_count": 3,
   "metadata": {},
   "outputs": [
    {
     "data": {
      "text/html": [
       "<div>\n",
       "<style scoped>\n",
       "    .dataframe tbody tr th:only-of-type {\n",
       "        vertical-align: middle;\n",
       "    }\n",
       "\n",
       "    .dataframe tbody tr th {\n",
       "        vertical-align: top;\n",
       "    }\n",
       "\n",
       "    .dataframe thead th {\n",
       "        text-align: right;\n",
       "    }\n",
       "</style>\n",
       "<table border=\"1\" class=\"dataframe\">\n",
       "  <thead>\n",
       "    <tr style=\"text-align: right;\">\n",
       "      <th></th>\n",
       "      <th>AnimalID</th>\n",
       "      <th>Name</th>\n",
       "      <th>DateTime</th>\n",
       "      <th>OutcomeType</th>\n",
       "      <th>OutcomeSubtype</th>\n",
       "      <th>AnimalType</th>\n",
       "      <th>SexuponOutcome</th>\n",
       "      <th>AgeuponOutcome</th>\n",
       "      <th>Breed</th>\n",
       "      <th>Color</th>\n",
       "    </tr>\n",
       "  </thead>\n",
       "  <tbody>\n",
       "    <tr>\n",
       "      <th>0</th>\n",
       "      <td>A671945</td>\n",
       "      <td>Hambone</td>\n",
       "      <td>2014-02-12 18:22:00</td>\n",
       "      <td>Return_to_owner</td>\n",
       "      <td>NaN</td>\n",
       "      <td>Dog</td>\n",
       "      <td>Neutered Male</td>\n",
       "      <td>1 year</td>\n",
       "      <td>Shetland Sheepdog Mix</td>\n",
       "      <td>Brown/White</td>\n",
       "    </tr>\n",
       "    <tr>\n",
       "      <th>1</th>\n",
       "      <td>A656520</td>\n",
       "      <td>Emily</td>\n",
       "      <td>2013-10-13 12:44:00</td>\n",
       "      <td>Euthanasia</td>\n",
       "      <td>Suffering</td>\n",
       "      <td>Cat</td>\n",
       "      <td>Spayed Female</td>\n",
       "      <td>1 year</td>\n",
       "      <td>Domestic Shorthair Mix</td>\n",
       "      <td>Cream Tabby</td>\n",
       "    </tr>\n",
       "    <tr>\n",
       "      <th>2</th>\n",
       "      <td>A686464</td>\n",
       "      <td>Pearce</td>\n",
       "      <td>2015-01-31 12:28:00</td>\n",
       "      <td>Adoption</td>\n",
       "      <td>Foster</td>\n",
       "      <td>Dog</td>\n",
       "      <td>Neutered Male</td>\n",
       "      <td>2 years</td>\n",
       "      <td>Pit Bull Mix</td>\n",
       "      <td>Blue/White</td>\n",
       "    </tr>\n",
       "    <tr>\n",
       "      <th>3</th>\n",
       "      <td>A683430</td>\n",
       "      <td>NaN</td>\n",
       "      <td>2014-07-11 19:09:00</td>\n",
       "      <td>Transfer</td>\n",
       "      <td>Partner</td>\n",
       "      <td>Cat</td>\n",
       "      <td>Intact Male</td>\n",
       "      <td>3 weeks</td>\n",
       "      <td>Domestic Shorthair Mix</td>\n",
       "      <td>Blue Cream</td>\n",
       "    </tr>\n",
       "    <tr>\n",
       "      <th>4</th>\n",
       "      <td>A667013</td>\n",
       "      <td>NaN</td>\n",
       "      <td>2013-11-15 12:52:00</td>\n",
       "      <td>Transfer</td>\n",
       "      <td>Partner</td>\n",
       "      <td>Dog</td>\n",
       "      <td>Neutered Male</td>\n",
       "      <td>2 years</td>\n",
       "      <td>Lhasa Apso/Miniature Poodle</td>\n",
       "      <td>Tan</td>\n",
       "    </tr>\n",
       "  </tbody>\n",
       "</table>\n",
       "</div>"
      ],
      "text/plain": [
       "  AnimalID     Name             DateTime      OutcomeType OutcomeSubtype  \\\n",
       "0  A671945  Hambone  2014-02-12 18:22:00  Return_to_owner            NaN   \n",
       "1  A656520    Emily  2013-10-13 12:44:00       Euthanasia      Suffering   \n",
       "2  A686464   Pearce  2015-01-31 12:28:00         Adoption         Foster   \n",
       "3  A683430      NaN  2014-07-11 19:09:00         Transfer        Partner   \n",
       "4  A667013      NaN  2013-11-15 12:52:00         Transfer        Partner   \n",
       "\n",
       "  AnimalType SexuponOutcome AgeuponOutcome                        Breed  \\\n",
       "0        Dog  Neutered Male         1 year        Shetland Sheepdog Mix   \n",
       "1        Cat  Spayed Female         1 year       Domestic Shorthair Mix   \n",
       "2        Dog  Neutered Male        2 years                 Pit Bull Mix   \n",
       "3        Cat    Intact Male        3 weeks       Domestic Shorthair Mix   \n",
       "4        Dog  Neutered Male        2 years  Lhasa Apso/Miniature Poodle   \n",
       "\n",
       "         Color  \n",
       "0  Brown/White  \n",
       "1  Cream Tabby  \n",
       "2   Blue/White  \n",
       "3   Blue Cream  \n",
       "4          Tan  "
      ]
     },
     "execution_count": 3,
     "metadata": {},
     "output_type": "execute_result"
    }
   ],
   "source": [
    "data.head()"
   ]
  },
  {
   "cell_type": "code",
   "execution_count": 4,
   "metadata": {},
   "outputs": [
    {
     "name": "stdout",
     "output_type": "stream",
     "text": [
      "<class 'pandas.core.frame.DataFrame'>\n",
      "RangeIndex: 26729 entries, 0 to 26728\n",
      "Data columns (total 10 columns):\n",
      "AnimalID          26729 non-null object\n",
      "Name              19038 non-null object\n",
      "DateTime          26729 non-null object\n",
      "OutcomeType       26729 non-null object\n",
      "OutcomeSubtype    13117 non-null object\n",
      "AnimalType        26729 non-null object\n",
      "SexuponOutcome    26728 non-null object\n",
      "AgeuponOutcome    26711 non-null object\n",
      "Breed             26729 non-null object\n",
      "Color             26729 non-null object\n",
      "dtypes: object(10)\n",
      "memory usage: 2.0+ MB\n"
     ]
    }
   ],
   "source": [
    "data.info()"
   ]
  },
  {
   "cell_type": "code",
   "execution_count": 5,
   "metadata": {},
   "outputs": [
    {
     "data": {
      "text/html": [
       "<div>\n",
       "<style scoped>\n",
       "    .dataframe tbody tr th:only-of-type {\n",
       "        vertical-align: middle;\n",
       "    }\n",
       "\n",
       "    .dataframe tbody tr th {\n",
       "        vertical-align: top;\n",
       "    }\n",
       "\n",
       "    .dataframe thead th {\n",
       "        text-align: right;\n",
       "    }\n",
       "</style>\n",
       "<table border=\"1\" class=\"dataframe\">\n",
       "  <thead>\n",
       "    <tr style=\"text-align: right;\">\n",
       "      <th></th>\n",
       "      <th>AnimalID</th>\n",
       "      <th>Name</th>\n",
       "      <th>DateTime</th>\n",
       "      <th>OutcomeType</th>\n",
       "      <th>OutcomeSubtype</th>\n",
       "      <th>AnimalType</th>\n",
       "      <th>SexuponOutcome</th>\n",
       "      <th>AgeuponOutcome</th>\n",
       "      <th>Breed</th>\n",
       "      <th>Color</th>\n",
       "    </tr>\n",
       "  </thead>\n",
       "  <tbody>\n",
       "    <tr>\n",
       "      <th>count</th>\n",
       "      <td>26729</td>\n",
       "      <td>19038</td>\n",
       "      <td>26729</td>\n",
       "      <td>26729</td>\n",
       "      <td>13117</td>\n",
       "      <td>26729</td>\n",
       "      <td>26728</td>\n",
       "      <td>26711</td>\n",
       "      <td>26729</td>\n",
       "      <td>26729</td>\n",
       "    </tr>\n",
       "    <tr>\n",
       "      <th>unique</th>\n",
       "      <td>26729</td>\n",
       "      <td>6374</td>\n",
       "      <td>22918</td>\n",
       "      <td>5</td>\n",
       "      <td>16</td>\n",
       "      <td>2</td>\n",
       "      <td>5</td>\n",
       "      <td>44</td>\n",
       "      <td>1380</td>\n",
       "      <td>366</td>\n",
       "    </tr>\n",
       "    <tr>\n",
       "      <th>top</th>\n",
       "      <td>A682957</td>\n",
       "      <td>Max</td>\n",
       "      <td>2015-08-11 00:00:00</td>\n",
       "      <td>Adoption</td>\n",
       "      <td>Partner</td>\n",
       "      <td>Dog</td>\n",
       "      <td>Neutered Male</td>\n",
       "      <td>1 year</td>\n",
       "      <td>Domestic Shorthair Mix</td>\n",
       "      <td>Black/White</td>\n",
       "    </tr>\n",
       "    <tr>\n",
       "      <th>freq</th>\n",
       "      <td>1</td>\n",
       "      <td>136</td>\n",
       "      <td>19</td>\n",
       "      <td>10769</td>\n",
       "      <td>7816</td>\n",
       "      <td>15595</td>\n",
       "      <td>9779</td>\n",
       "      <td>3969</td>\n",
       "      <td>8810</td>\n",
       "      <td>2824</td>\n",
       "    </tr>\n",
       "  </tbody>\n",
       "</table>\n",
       "</div>"
      ],
      "text/plain": [
       "       AnimalID   Name             DateTime OutcomeType OutcomeSubtype  \\\n",
       "count     26729  19038                26729       26729          13117   \n",
       "unique    26729   6374                22918           5             16   \n",
       "top     A682957    Max  2015-08-11 00:00:00    Adoption        Partner   \n",
       "freq          1    136                   19       10769           7816   \n",
       "\n",
       "       AnimalType SexuponOutcome AgeuponOutcome                   Breed  \\\n",
       "count       26729          26728          26711                   26729   \n",
       "unique          2              5             44                    1380   \n",
       "top           Dog  Neutered Male         1 year  Domestic Shorthair Mix   \n",
       "freq        15595           9779           3969                    8810   \n",
       "\n",
       "              Color  \n",
       "count         26729  \n",
       "unique          366  \n",
       "top     Black/White  \n",
       "freq           2824  "
      ]
     },
     "execution_count": 5,
     "metadata": {},
     "output_type": "execute_result"
    }
   ],
   "source": [
    "data.describe(include = 'O')"
   ]
  },
  {
   "cell_type": "code",
   "execution_count": 6,
   "metadata": {},
   "outputs": [
    {
     "data": {
      "text/plain": [
       "array(['Return_to_owner', 'Euthanasia', 'Adoption', 'Transfer', 'Died'],\n",
       "      dtype=object)"
      ]
     },
     "execution_count": 6,
     "metadata": {},
     "output_type": "execute_result"
    }
   ],
   "source": [
    "data.OutcomeType.unique()"
   ]
  },
  {
   "cell_type": "code",
   "execution_count": 7,
   "metadata": {},
   "outputs": [
    {
     "data": {
      "text/plain": [
       "OutcomeType\n",
       "Adoption           10769\n",
       "Died                 197\n",
       "Euthanasia          1555\n",
       "Return_to_owner     4786\n",
       "Transfer            9422\n",
       "Name: AnimalID, dtype: int64"
      ]
     },
     "execution_count": 7,
     "metadata": {},
     "output_type": "execute_result"
    }
   ],
   "source": [
    "data.groupby(by = 'OutcomeType')['AnimalID'].count()"
   ]
  },
  {
   "cell_type": "code",
   "execution_count": 8,
   "metadata": {},
   "outputs": [
    {
     "data": {
      "text/plain": [
       "array([nan, 'Suffering', 'Foster', 'Partner', 'Offsite', 'SCRP',\n",
       "       'Aggressive', 'Behavior', 'Rabies Risk', 'Medical', 'In Kennel',\n",
       "       'In Foster', 'Barn', 'Court/Investigation', 'Enroute', 'At Vet',\n",
       "       'In Surgery'], dtype=object)"
      ]
     },
     "execution_count": 8,
     "metadata": {},
     "output_type": "execute_result"
    }
   ],
   "source": [
    "data.OutcomeSubtype.unique()"
   ]
  },
  {
   "cell_type": "code",
   "execution_count": 9,
   "metadata": {},
   "outputs": [
    {
     "data": {
      "text/plain": [
       "array(['Neutered Male', 'Spayed Female', 'Intact Male', 'Intact Female',\n",
       "       'Unknown', nan], dtype=object)"
      ]
     },
     "execution_count": 9,
     "metadata": {},
     "output_type": "execute_result"
    }
   ],
   "source": [
    "data.SexuponOutcome.unique()"
   ]
  },
  {
   "cell_type": "markdown",
   "metadata": {},
   "source": [
    "Что можно увидеть при первом взгляде на данные: \n",
    "- все колонки имеют тип object, но не факт, что для каждой из них этот тип правильный. \n",
    "- переменная SexuponOutcome может быть легко поделена на две переменные, т.к. содержит следующую информацию: пол животного, факт стерилизации. Кроме того, в поле содержатся пропуски, но они спрятаны за пользовательскими значениями \"Unknown\" и \"nan\".\n",
    "- целевая переменная имеет всего 5 значений, поэтому перед нами стоит задача мультиклассовой классификации.\n",
    "\n",
    "По условию задания колонку OutcomeSubtype мы выкидываем, а OutcomeType считаем целевой."
   ]
  },
  {
   "cell_type": "code",
   "execution_count": 10,
   "metadata": {},
   "outputs": [
    {
     "data": {
      "text/plain": [
       "Breed\n",
       "Pit Bull Mix                          1906\n",
       "Chihuahua Shorthair Mix               1766\n",
       "Labrador Retriever Mix                1363\n",
       "German Shepherd Mix                    575\n",
       "Australian Cattle Dog Mix              367\n",
       "Dachshund Mix                          318\n",
       "Boxer Mix                              245\n",
       "Miniature Poodle Mix                   233\n",
       "Border Collie Mix                      229\n",
       "Australian Shepherd Mix                163\n",
       "Rat Terrier Mix                        157\n",
       "Catahoula Mix                          157\n",
       "Jack Russell Terrier Mix               146\n",
       "Yorkshire Terrier Mix                  143\n",
       "Chihuahua Longhair Mix                 142\n",
       "Siberian Husky Mix                     138\n",
       "Miniature Schnauzer Mix                136\n",
       "Beagle Mix                             124\n",
       "Rottweiler Mix                         113\n",
       "American Bulldog Mix                   109\n",
       "Cairn Terrier Mix                      102\n",
       "Shih Tzu Mix                           100\n",
       "Chihuahua Shorthair/Dachshund           98\n",
       "Australian Kelpie Mix                   95\n",
       "Staffordshire Mix                       94\n",
       "Pointer Mix                             93\n",
       "American Staffordshire Terrier Mix      92\n",
       "Great Pyrenees Mix                      86\n",
       "Chihuahua Shorthair                     85\n",
       "Labrador Retriever/Pit Bull             81\n",
       "German Shepherd                         77\n",
       "Anatol Shepherd Mix                     76\n",
       "Plott Hound Mix                         73\n",
       "Dachshund/Chihuahua Shorthair           69\n",
       "Miniature Pinscher Mix                  69\n",
       "Labrador Retriever                      69\n",
       "American Pit Bull Terrier Mix           68\n",
       "Pit Bull                                66\n",
       "Golden Retriever Mix                    66\n",
       "German Shepherd/Labrador Retriever      64\n",
       "Black Mouth Cur Mix                     63\n",
       "Chow Chow Mix                           57\n",
       "Labrador Retriever/German Shepherd      56\n",
       "Cardigan Welsh Corgi Mix                54\n",
       "Shih Tzu                                53\n",
       "Queensland Heeler Mix                   51\n",
       "Pug Mix                                 49\n",
       "Maltese Mix                             49\n",
       "Dachshund                               46\n",
       "Doberman Pinsch Mix                     45\n",
       "Name: AnimalID, dtype: int64"
      ]
     },
     "execution_count": 10,
     "metadata": {},
     "output_type": "execute_result"
    }
   ],
   "source": [
    "data[data['AnimalType']=='Dog'].groupby(by = 'Breed')['AnimalID'].count().sort_values(ascending = False)[0:50]"
   ]
  },
  {
   "cell_type": "markdown",
   "metadata": {},
   "source": [
    "По всей видимости, приписка Mix в переменной Breed говорит о том, что порода смешанная. Попробуем вытащить её."
   ]
  },
  {
   "cell_type": "code",
   "execution_count": 11,
   "metadata": {},
   "outputs": [],
   "source": [
    "def get_mix(x):\n",
    "    x = str(x)\n",
    "    if x.find('Mix') >= 0: return 'mix'\n",
    "    return 'not'\n",
    "data['mix_breed'] = data.Breed.apply(get_mix)"
   ]
  },
  {
   "cell_type": "markdown",
   "metadata": {},
   "source": [
    "Остальные породы разобьем по размерам собак, максимально, насколько это возможно."
   ]
  },
  {
   "cell_type": "code",
   "execution_count": 12,
   "metadata": {},
   "outputs": [],
   "source": [
    "def get_dogsize(x):\n",
    "    x = str(x)\n",
    "    if x.find('Chihuahua') >= 0: return 'small'\n",
    "    if x.find('Jack Russell Terrier') >= 0: return 'small'\n",
    "    if x.find('Miniature') >= 0: return 'small'\n",
    "    if x.find('Shih Tzu') >= 0: return 'small'\n",
    "    if x.find('Yorkshire Terrier') >= 0: return 'small'\n",
    "    if x.find('Cairn Terrier') >= 0: return 'small'\n",
    "    if x.find('Maltese')>=0: return 'small'\n",
    "    if x.find('Pug')>=0: return 'small'\n",
    "     \n",
    "    if x.find('Golden Retriever') >= 0: return 'large'\n",
    "    if x.find('Labrador') >= 0: return 'large'\n",
    "    if x.find('Pyrenee') >= 0: return 'large'\n",
    "    if x.find('Greyhound') >= 0: return 'large'\n",
    "    if x.find('Border Collie') >= 0: return 'large'\n",
    "    if x.find('Australian Shepherd') >= 0: return 'large' \n",
    "    if x.find('German Shepherd') >= 0: return 'large'    \n",
    "    if x.find('Husky') >= 0: return 'large'\n",
    "    if x.find('Boxer') >= 0: return 'large'\n",
    "    if x.find('German Shepherd') >= 0: return 'large' \n",
    "    if x.find('Staffordshire') >= 0: return 'large'\n",
    "    if x.find('Catahoula') >= 0: return 'large'\n",
    "    if x.find('Black Mouth')>=0: return 'large'\n",
    "    if x.find('Chow Chow')>=0: return 'large'\n",
    "    if x.find('Doberman Pinsch')>=0: return 'large'\n",
    "    if x.find('Plott Hound')>=0: return 'large'\n",
    "    if x.find('Anatol Shepherd')>=0: return 'large'\n",
    "        \n",
    "    if x.find('Terrier') >= 0: return 'medium'\n",
    "    if x.find('Bulldog') >= 0: return 'medium'\n",
    "    if x.find('Corgi') >= 0: return 'medium'\n",
    "    if x.find('Poodle') >= 0: return 'medium'\n",
    "    if x.find('Beagle') >= 0: return 'medium'\n",
    "    if x.find('Bulldog') >= 0: return 'medium'\n",
    "    if x.find('Dachshund') >= 0: return 'medium'\n",
    "    if x.find('Australian Cattle') >= 0: return 'medium'\n",
    "    if x.find('Rat Terrier') >= 0: return 'medium'\n",
    "\n",
    "    return 'Unknown'\n",
    "data['animalsize'] = data.Breed.apply(get_dogsize)"
   ]
  },
  {
   "cell_type": "markdown",
   "metadata": {},
   "source": [
    "Всех кошек автоматом назначим в малый размер."
   ]
  },
  {
   "cell_type": "code",
   "execution_count": 13,
   "metadata": {},
   "outputs": [],
   "source": [
    "data['animalsize']= np.where(data['AnimalType']=='Cat', 'small', data['animalsize'])"
   ]
  },
  {
   "cell_type": "code",
   "execution_count": 14,
   "metadata": {},
   "outputs": [
    {
     "data": {
      "text/plain": [
       "animalsize\n",
       "Unknown     3778\n",
       "large       5416\n",
       "medium      2162\n",
       "small      15373\n",
       "Name: AnimalID, dtype: int64"
      ]
     },
     "execution_count": 14,
     "metadata": {},
     "output_type": "execute_result"
    }
   ],
   "source": [
    "data.groupby(by = 'animalsize')['AnimalID'].count()"
   ]
  },
  {
   "cell_type": "markdown",
   "metadata": {},
   "source": [
    "Вытащим пол и информацию о стерилизации животного."
   ]
  },
  {
   "cell_type": "code",
   "execution_count": 15,
   "metadata": {},
   "outputs": [],
   "source": [
    "# functions to get new parameters from the column\n",
    "def get_sex(x):\n",
    "    x = str(x)\n",
    "    if x.find('Male') >= 0: return 'male'\n",
    "    if x.find('Female') >= 0: return 'female'\n",
    "    return 'unknown'\n",
    "data['sex'] = data.SexuponOutcome.apply(get_sex)\n",
    "def get_neutered(x):\n",
    "    x = str(x)\n",
    "    if x.find('Spayed') >= 0: return 'neutered'\n",
    "    if x.find('Neutered') >= 0: return 'neutered'\n",
    "    if x.find('Intact') >= 0: return 'intact'\n",
    "    return 'unknown'\n",
    "data['neutered_fact'] = data.SexuponOutcome.apply(get_neutered)"
   ]
  },
  {
   "cell_type": "markdown",
   "metadata": {},
   "source": [
    "Теперь посмотрим на окрас животных."
   ]
  },
  {
   "cell_type": "code",
   "execution_count": 16,
   "metadata": {},
   "outputs": [
    {
     "data": {
      "text/plain": [
       "Color\n",
       "Black/White                    2824\n",
       "Black                          2292\n",
       "Brown Tabby                    1635\n",
       "Brown Tabby/White               940\n",
       "White                           931\n",
       "Brown/White                     884\n",
       "Orange Tabby                    841\n",
       "Tan/White                       773\n",
       "Tricolor                        752\n",
       "Blue/White                      702\n",
       "Black/Tan                       672\n",
       "White/Black                     643\n",
       "Brown                           639\n",
       "Tan                             628\n",
       "White/Brown                     569\n",
       "Tortie                          530\n",
       "Calico                          517\n",
       "Orange Tabby/White              455\n",
       "Blue                            450\n",
       "Brown Brindle/White             450\n",
       "Black/Brown                     436\n",
       "Blue Tabby                      433\n",
       "White/Tan                       389\n",
       "Red                             337\n",
       "Torbie                          335\n",
       "Brown/Black                     333\n",
       "Red/White                       331\n",
       "Blue Tabby/White                241\n",
       "Brown Brindle                   232\n",
       "Chocolate/White                 224\n",
       "                               ... \n",
       "Brown Tabby/Gray Tabby            1\n",
       "Brown Tabby/Brown                 1\n",
       "Brown Merle/Tan                   1\n",
       "Brown Merle/Blue Merle            1\n",
       "Brown Brindle/Brown Merle         1\n",
       "Brown Brindle/Brown Brindle       1\n",
       "Brown Brindle/Blue Tick           1\n",
       "Calico/Brown                      1\n",
       "Chocolate/Brown Brindle           1\n",
       "Lynx Point/Brown Tabby            1\n",
       "Fawn/Tricolor                     1\n",
       "Liver/Buff                        1\n",
       "Liver Tick/White                  1\n",
       "Gray/Red                          1\n",
       "Gray Tabby/Black                  1\n",
       "Gold/Yellow                       1\n",
       "Gold/Tan                          1\n",
       "Gold/Buff                         1\n",
       "Gold/Black                        1\n",
       "Fawn/Brown                        1\n",
       "Chocolate/Brown Merle             1\n",
       "Cream/Seal Point                  1\n",
       "Cream/Red Tick                    1\n",
       "Cream/Red                         1\n",
       "Cream/Orange                      1\n",
       "Chocolate/Red Tick                1\n",
       "Chocolate/Gray                    1\n",
       "Chocolate/Gold                    1\n",
       "Chocolate/Cream                   1\n",
       "Agouti                            1\n",
       "Name: AnimalID, Length: 366, dtype: int64"
      ]
     },
     "execution_count": 16,
     "metadata": {},
     "output_type": "execute_result"
    }
   ],
   "source": [
    "data.groupby(by = 'Color')['AnimalID'].count().sort_values(ascending = False)"
   ]
  },
  {
   "cell_type": "markdown",
   "metadata": {},
   "source": [
    "Вытащим 20 самых частых окрасов. Для остальных, более редких окрасов введем переменную \"other\"."
   ]
  },
  {
   "cell_type": "code",
   "execution_count": 17,
   "metadata": {},
   "outputs": [
    {
     "name": "stdout",
     "output_type": "stream",
     "text": [
      "Percent of these categories at the column [ Color ]:  67.82 %\n",
      "['Black/White', 'Black', 'Brown Tabby', 'Brown Tabby/White', 'White', 'Brown/White', 'Orange Tabby', 'Tan/White', 'Tricolor', 'Blue/White', 'Black/Tan', 'White/Black', 'Brown', 'Tan', 'White/Brown', 'Tortie', 'Calico', 'Orange Tabby/White', 'Brown Brindle/White', 'Blue']\n"
     ]
    }
   ],
   "source": [
    "list_frequent_categories = []\n",
    "n = 0\n",
    "total = 0\n",
    "while n<20:\n",
    "    list_frequent_categories.append(data['Color'].value_counts().index[n])\n",
    "    total+=data['Color'].value_counts()[n]\n",
    "    n+=1\n",
    "print('Percent of these categories at the column [','Color',']: ',round(total/len(data['Color'])*100,2),'%')\n",
    "print(list_frequent_categories)"
   ]
  },
  {
   "cell_type": "code",
   "execution_count": 18,
   "metadata": {},
   "outputs": [],
   "source": [
    "def get_color(x):\n",
    "    x = str(x)\n",
    "    if x in list_frequent_categories: return x\n",
    "    else: return 'other'\n",
    "data['Color_new'] = data.Color.apply(get_color)\n",
    "data['Color_new'] = np.where(data['Color_new']=='other', data['Color_new'], data['Color'])"
   ]
  },
  {
   "cell_type": "code",
   "execution_count": 19,
   "metadata": {},
   "outputs": [
    {
     "data": {
      "text/plain": [
       "21"
      ]
     },
     "execution_count": 19,
     "metadata": {},
     "output_type": "execute_result"
    }
   ],
   "source": [
    "data['Color_new'].nunique()"
   ]
  },
  {
   "cell_type": "code",
   "execution_count": 20,
   "metadata": {},
   "outputs": [],
   "source": [
    "def calc_age_in_years(x):\n",
    "    x = str(x)\n",
    "    if x == 'nan': return 0\n",
    "    age = int(x.split()[0])\n",
    "    if x.find('year') > -1: return age \n",
    "    if x.find('month')> -1: return age / 12.\n",
    "    if x.find('week')> -1: return age / 52.\n",
    "    if x.find('day')> -1: return age / 365.\n",
    "    else: return 0"
   ]
  },
  {
   "cell_type": "code",
   "execution_count": 21,
   "metadata": {},
   "outputs": [
    {
     "data": {
      "text/plain": [
       "<matplotlib.axes._subplots.AxesSubplot at 0x1c562ef29e8>"
      ]
     },
     "execution_count": 21,
     "metadata": {},
     "output_type": "execute_result"
    },
    {
     "data": {
      "image/png": "[encoded data removed]",
      "text/plain": [
       "<Figure size 432x288 with 1 Axes>"
      ]
     },
     "metadata": {
      "needs_background": "light"
     },
     "output_type": "display_data"
    }
   ],
   "source": [
    "data['AgeInYears'] = data.AgeuponOutcome.apply(calc_age_in_years)\n",
    "sns.distplot(data.AgeInYears, bins = 20, kde=False)"
   ]
  },
  {
   "cell_type": "code",
   "execution_count": 22,
   "metadata": {},
   "outputs": [],
   "source": [
    "def calc_age_category(x):\n",
    "    if x < 0.5: return 'kitten|puppy'\n",
    "    if x < 3: return 'young'\n",
    "    if x < 5: return 'young adult'\n",
    "    if x < 10: return 'adult'\n",
    "    return 'old'\n",
    "data['AgeCategory'] = data.AgeInYears.apply(calc_age_category)"
   ]
  },
  {
   "cell_type": "code",
   "execution_count": 23,
   "metadata": {},
   "outputs": [
    {
     "data": {
      "text/html": [
       "<div>\n",
       "<style scoped>\n",
       "    .dataframe tbody tr th:only-of-type {\n",
       "        vertical-align: middle;\n",
       "    }\n",
       "\n",
       "    .dataframe tbody tr th {\n",
       "        vertical-align: top;\n",
       "    }\n",
       "\n",
       "    .dataframe thead th {\n",
       "        text-align: right;\n",
       "    }\n",
       "</style>\n",
       "<table border=\"1\" class=\"dataframe\">\n",
       "  <thead>\n",
       "    <tr style=\"text-align: right;\">\n",
       "      <th></th>\n",
       "      <th>AnimalID</th>\n",
       "      <th>Name</th>\n",
       "      <th>DateTime</th>\n",
       "      <th>OutcomeType</th>\n",
       "      <th>OutcomeSubtype</th>\n",
       "      <th>AnimalType</th>\n",
       "      <th>SexuponOutcome</th>\n",
       "      <th>AgeuponOutcome</th>\n",
       "      <th>Breed</th>\n",
       "      <th>Color</th>\n",
       "      <th>mix_breed</th>\n",
       "      <th>animalsize</th>\n",
       "      <th>sex</th>\n",
       "      <th>neutered_fact</th>\n",
       "      <th>Color_new</th>\n",
       "      <th>AgeInYears</th>\n",
       "      <th>AgeCategory</th>\n",
       "    </tr>\n",
       "  </thead>\n",
       "  <tbody>\n",
       "    <tr>\n",
       "      <th>0</th>\n",
       "      <td>A671945</td>\n",
       "      <td>Hambone</td>\n",
       "      <td>2014-02-12 18:22:00</td>\n",
       "      <td>Return_to_owner</td>\n",
       "      <td>NaN</td>\n",
       "      <td>Dog</td>\n",
       "      <td>Neutered Male</td>\n",
       "      <td>1 year</td>\n",
       "      <td>Shetland Sheepdog Mix</td>\n",
       "      <td>Brown/White</td>\n",
       "      <td>mix</td>\n",
       "      <td>Unknown</td>\n",
       "      <td>male</td>\n",
       "      <td>neutered</td>\n",
       "      <td>Brown/White</td>\n",
       "      <td>1.000000</td>\n",
       "      <td>young</td>\n",
       "    </tr>\n",
       "    <tr>\n",
       "      <th>1</th>\n",
       "      <td>A656520</td>\n",
       "      <td>Emily</td>\n",
       "      <td>2013-10-13 12:44:00</td>\n",
       "      <td>Euthanasia</td>\n",
       "      <td>Suffering</td>\n",
       "      <td>Cat</td>\n",
       "      <td>Spayed Female</td>\n",
       "      <td>1 year</td>\n",
       "      <td>Domestic Shorthair Mix</td>\n",
       "      <td>Cream Tabby</td>\n",
       "      <td>mix</td>\n",
       "      <td>small</td>\n",
       "      <td>female</td>\n",
       "      <td>neutered</td>\n",
       "      <td>other</td>\n",
       "      <td>1.000000</td>\n",
       "      <td>young</td>\n",
       "    </tr>\n",
       "    <tr>\n",
       "      <th>2</th>\n",
       "      <td>A686464</td>\n",
       "      <td>Pearce</td>\n",
       "      <td>2015-01-31 12:28:00</td>\n",
       "      <td>Adoption</td>\n",
       "      <td>Foster</td>\n",
       "      <td>Dog</td>\n",
       "      <td>Neutered Male</td>\n",
       "      <td>2 years</td>\n",
       "      <td>Pit Bull Mix</td>\n",
       "      <td>Blue/White</td>\n",
       "      <td>mix</td>\n",
       "      <td>Unknown</td>\n",
       "      <td>male</td>\n",
       "      <td>neutered</td>\n",
       "      <td>Blue/White</td>\n",
       "      <td>2.000000</td>\n",
       "      <td>young</td>\n",
       "    </tr>\n",
       "    <tr>\n",
       "      <th>3</th>\n",
       "      <td>A683430</td>\n",
       "      <td>NaN</td>\n",
       "      <td>2014-07-11 19:09:00</td>\n",
       "      <td>Transfer</td>\n",
       "      <td>Partner</td>\n",
       "      <td>Cat</td>\n",
       "      <td>Intact Male</td>\n",
       "      <td>3 weeks</td>\n",
       "      <td>Domestic Shorthair Mix</td>\n",
       "      <td>Blue Cream</td>\n",
       "      <td>mix</td>\n",
       "      <td>small</td>\n",
       "      <td>male</td>\n",
       "      <td>intact</td>\n",
       "      <td>other</td>\n",
       "      <td>0.057692</td>\n",
       "      <td>kitten|puppy</td>\n",
       "    </tr>\n",
       "    <tr>\n",
       "      <th>4</th>\n",
       "      <td>A667013</td>\n",
       "      <td>NaN</td>\n",
       "      <td>2013-11-15 12:52:00</td>\n",
       "      <td>Transfer</td>\n",
       "      <td>Partner</td>\n",
       "      <td>Dog</td>\n",
       "      <td>Neutered Male</td>\n",
       "      <td>2 years</td>\n",
       "      <td>Lhasa Apso/Miniature Poodle</td>\n",
       "      <td>Tan</td>\n",
       "      <td>not</td>\n",
       "      <td>small</td>\n",
       "      <td>male</td>\n",
       "      <td>neutered</td>\n",
       "      <td>Tan</td>\n",
       "      <td>2.000000</td>\n",
       "      <td>young</td>\n",
       "    </tr>\n",
       "  </tbody>\n",
       "</table>\n",
       "</div>"
      ],
      "text/plain": [
       "  AnimalID     Name             DateTime      OutcomeType OutcomeSubtype  \\\n",
       "0  A671945  Hambone  2014-02-12 18:22:00  Return_to_owner            NaN   \n",
       "1  A656520    Emily  2013-10-13 12:44:00       Euthanasia      Suffering   \n",
       "2  A686464   Pearce  2015-01-31 12:28:00         Adoption         Foster   \n",
       "3  A683430      NaN  2014-07-11 19:09:00         Transfer        Partner   \n",
       "4  A667013      NaN  2013-11-15 12:52:00         Transfer        Partner   \n",
       "\n",
       "  AnimalType SexuponOutcome AgeuponOutcome                        Breed  \\\n",
       "0        Dog  Neutered Male         1 year        Shetland Sheepdog Mix   \n",
       "1        Cat  Spayed Female         1 year       Domestic Shorthair Mix   \n",
       "2        Dog  Neutered Male        2 years                 Pit Bull Mix   \n",
       "3        Cat    Intact Male        3 weeks       Domestic Shorthair Mix   \n",
       "4        Dog  Neutered Male        2 years  Lhasa Apso/Miniature Poodle   \n",
       "\n",
       "         Color mix_breed animalsize     sex neutered_fact    Color_new  \\\n",
       "0  Brown/White       mix    Unknown    male      neutered  Brown/White   \n",
       "1  Cream Tabby       mix      small  female      neutered        other   \n",
       "2   Blue/White       mix    Unknown    male      neutered   Blue/White   \n",
       "3   Blue Cream       mix      small    male        intact        other   \n",
       "4          Tan       not      small    male      neutered          Tan   \n",
       "\n",
       "   AgeInYears   AgeCategory  \n",
       "0    1.000000         young  \n",
       "1    1.000000         young  \n",
       "2    2.000000         young  \n",
       "3    0.057692  kitten|puppy  \n",
       "4    2.000000         young  "
      ]
     },
     "execution_count": 23,
     "metadata": {},
     "output_type": "execute_result"
    }
   ],
   "source": [
    "data.head()"
   ]
  },
  {
   "cell_type": "markdown",
   "metadata": {},
   "source": [
    "Удалим лишние поля."
   ]
  },
  {
   "cell_type": "code",
   "execution_count": 24,
   "metadata": {},
   "outputs": [],
   "source": [
    "data.drop(['AnimalID', 'Name', 'DateTime', 'OutcomeSubtype', 'SexuponOutcome',\n",
    "           'AgeuponOutcome', 'Breed', 'Color', 'AgeInYears'], axis = 1, \n",
    "         inplace = True)"
   ]
  },
  {
   "cell_type": "code",
   "execution_count": 25,
   "metadata": {},
   "outputs": [
    {
     "data": {
      "text/html": [
       "<div>\n",
       "<style scoped>\n",
       "    .dataframe tbody tr th:only-of-type {\n",
       "        vertical-align: middle;\n",
       "    }\n",
       "\n",
       "    .dataframe tbody tr th {\n",
       "        vertical-align: top;\n",
       "    }\n",
       "\n",
       "    .dataframe thead th {\n",
       "        text-align: right;\n",
       "    }\n",
       "</style>\n",
       "<table border=\"1\" class=\"dataframe\">\n",
       "  <thead>\n",
       "    <tr style=\"text-align: right;\">\n",
       "      <th></th>\n",
       "      <th>OutcomeType</th>\n",
       "      <th>AnimalType</th>\n",
       "      <th>mix_breed</th>\n",
       "      <th>animalsize</th>\n",
       "      <th>sex</th>\n",
       "      <th>neutered_fact</th>\n",
       "      <th>Color_new</th>\n",
       "      <th>AgeCategory</th>\n",
       "    </tr>\n",
       "  </thead>\n",
       "  <tbody>\n",
       "    <tr>\n",
       "      <th>0</th>\n",
       "      <td>Return_to_owner</td>\n",
       "      <td>Dog</td>\n",
       "      <td>mix</td>\n",
       "      <td>Unknown</td>\n",
       "      <td>male</td>\n",
       "      <td>neutered</td>\n",
       "      <td>Brown/White</td>\n",
       "      <td>young</td>\n",
       "    </tr>\n",
       "    <tr>\n",
       "      <th>1</th>\n",
       "      <td>Euthanasia</td>\n",
       "      <td>Cat</td>\n",
       "      <td>mix</td>\n",
       "      <td>small</td>\n",
       "      <td>female</td>\n",
       "      <td>neutered</td>\n",
       "      <td>other</td>\n",
       "      <td>young</td>\n",
       "    </tr>\n",
       "    <tr>\n",
       "      <th>2</th>\n",
       "      <td>Adoption</td>\n",
       "      <td>Dog</td>\n",
       "      <td>mix</td>\n",
       "      <td>Unknown</td>\n",
       "      <td>male</td>\n",
       "      <td>neutered</td>\n",
       "      <td>Blue/White</td>\n",
       "      <td>young</td>\n",
       "    </tr>\n",
       "    <tr>\n",
       "      <th>3</th>\n",
       "      <td>Transfer</td>\n",
       "      <td>Cat</td>\n",
       "      <td>mix</td>\n",
       "      <td>small</td>\n",
       "      <td>male</td>\n",
       "      <td>intact</td>\n",
       "      <td>other</td>\n",
       "      <td>kitten|puppy</td>\n",
       "    </tr>\n",
       "    <tr>\n",
       "      <th>4</th>\n",
       "      <td>Transfer</td>\n",
       "      <td>Dog</td>\n",
       "      <td>not</td>\n",
       "      <td>small</td>\n",
       "      <td>male</td>\n",
       "      <td>neutered</td>\n",
       "      <td>Tan</td>\n",
       "      <td>young</td>\n",
       "    </tr>\n",
       "  </tbody>\n",
       "</table>\n",
       "</div>"
      ],
      "text/plain": [
       "       OutcomeType AnimalType mix_breed animalsize     sex neutered_fact  \\\n",
       "0  Return_to_owner        Dog       mix    Unknown    male      neutered   \n",
       "1       Euthanasia        Cat       mix      small  female      neutered   \n",
       "2         Adoption        Dog       mix    Unknown    male      neutered   \n",
       "3         Transfer        Cat       mix      small    male        intact   \n",
       "4         Transfer        Dog       not      small    male      neutered   \n",
       "\n",
       "     Color_new   AgeCategory  \n",
       "0  Brown/White         young  \n",
       "1        other         young  \n",
       "2   Blue/White         young  \n",
       "3        other  kitten|puppy  \n",
       "4          Tan         young  "
      ]
     },
     "execution_count": 25,
     "metadata": {},
     "output_type": "execute_result"
    }
   ],
   "source": [
    "data.head(5)"
   ]
  },
  {
   "cell_type": "markdown",
   "metadata": {},
   "source": [
    "!\n",
    "**Выкидываем ID, потому что не нужОн, всё, что категориальное и с небольшим числом уникальных значений кодируем при помощи LabelEncoder (заодно можно объяснить, почему достаточно использовать LabelEncoder вместо OneHotEncoder)**\n",
    "\n",
    "Достаточно, а точнее лучше в данном случае будет использовать LabelEncoder, если переменная не только категориальная, но и категории могут быть проранжированы/отсортированы неким образом между собой.\n",
    "Например, так происходит с нашей переменной размера животного."
   ]
  },
  {
   "cell_type": "code",
   "execution_count": 26,
   "metadata": {},
   "outputs": [
    {
     "data": {
      "text/plain": [
       "Index(['OutcomeType', 'AnimalType', 'mix_breed', 'animalsize', 'sex',\n",
       "       'neutered_fact', 'Color_new', 'AgeCategory'],\n",
       "      dtype='object')"
      ]
     },
     "execution_count": 26,
     "metadata": {},
     "output_type": "execute_result"
    }
   ],
   "source": [
    "data.columns"
   ]
  },
  {
   "cell_type": "code",
   "execution_count": 27,
   "metadata": {},
   "outputs": [
    {
     "data": {
      "text/html": [
       "<div>\n",
       "<style scoped>\n",
       "    .dataframe tbody tr th:only-of-type {\n",
       "        vertical-align: middle;\n",
       "    }\n",
       "\n",
       "    .dataframe tbody tr th {\n",
       "        vertical-align: top;\n",
       "    }\n",
       "\n",
       "    .dataframe thead th {\n",
       "        text-align: right;\n",
       "    }\n",
       "</style>\n",
       "<table border=\"1\" class=\"dataframe\">\n",
       "  <thead>\n",
       "    <tr style=\"text-align: right;\">\n",
       "      <th></th>\n",
       "      <th>OutcomeType</th>\n",
       "      <th>AnimalType</th>\n",
       "      <th>mix_breed</th>\n",
       "      <th>animalsize</th>\n",
       "      <th>sex</th>\n",
       "      <th>neutered_fact</th>\n",
       "      <th>Color_new</th>\n",
       "      <th>AgeCategory</th>\n",
       "    </tr>\n",
       "  </thead>\n",
       "  <tbody>\n",
       "    <tr>\n",
       "      <th>0</th>\n",
       "      <td>3</td>\n",
       "      <td>Dog</td>\n",
       "      <td>mix</td>\n",
       "      <td>Unknown</td>\n",
       "      <td>male</td>\n",
       "      <td>neutered</td>\n",
       "      <td>Brown/White</td>\n",
       "      <td>young</td>\n",
       "    </tr>\n",
       "    <tr>\n",
       "      <th>1</th>\n",
       "      <td>2</td>\n",
       "      <td>Cat</td>\n",
       "      <td>mix</td>\n",
       "      <td>small</td>\n",
       "      <td>female</td>\n",
       "      <td>neutered</td>\n",
       "      <td>other</td>\n",
       "      <td>young</td>\n",
       "    </tr>\n",
       "    <tr>\n",
       "      <th>2</th>\n",
       "      <td>0</td>\n",
       "      <td>Dog</td>\n",
       "      <td>mix</td>\n",
       "      <td>Unknown</td>\n",
       "      <td>male</td>\n",
       "      <td>neutered</td>\n",
       "      <td>Blue/White</td>\n",
       "      <td>young</td>\n",
       "    </tr>\n",
       "    <tr>\n",
       "      <th>3</th>\n",
       "      <td>4</td>\n",
       "      <td>Cat</td>\n",
       "      <td>mix</td>\n",
       "      <td>small</td>\n",
       "      <td>male</td>\n",
       "      <td>intact</td>\n",
       "      <td>other</td>\n",
       "      <td>kitten|puppy</td>\n",
       "    </tr>\n",
       "    <tr>\n",
       "      <th>4</th>\n",
       "      <td>4</td>\n",
       "      <td>Dog</td>\n",
       "      <td>not</td>\n",
       "      <td>small</td>\n",
       "      <td>male</td>\n",
       "      <td>neutered</td>\n",
       "      <td>Tan</td>\n",
       "      <td>young</td>\n",
       "    </tr>\n",
       "  </tbody>\n",
       "</table>\n",
       "</div>"
      ],
      "text/plain": [
       "   OutcomeType AnimalType mix_breed animalsize     sex neutered_fact  \\\n",
       "0            3        Dog       mix    Unknown    male      neutered   \n",
       "1            2        Cat       mix      small  female      neutered   \n",
       "2            0        Dog       mix    Unknown    male      neutered   \n",
       "3            4        Cat       mix      small    male        intact   \n",
       "4            4        Dog       not      small    male      neutered   \n",
       "\n",
       "     Color_new   AgeCategory  \n",
       "0  Brown/White         young  \n",
       "1        other         young  \n",
       "2   Blue/White         young  \n",
       "3        other  kitten|puppy  \n",
       "4          Tan         young  "
      ]
     },
     "execution_count": 27,
     "metadata": {},
     "output_type": "execute_result"
    }
   ],
   "source": [
    "from sklearn.preprocessing import LabelEncoder\n",
    "enc = LabelEncoder()\n",
    "for i in ['OutcomeType']:\n",
    "    enc.fit(data[i])\n",
    "    data[i]=enc.transform(data[i])\n",
    "data.head()"
   ]
  },
  {
   "cell_type": "markdown",
   "metadata": {},
   "source": [
    "Расшифруем типы OutcomeType, которые у нас имеются:\n",
    "\n",
    "**0** - Adoption\n",
    "\n",
    "**1** - Died\n",
    "    \n",
    "**2** - Euthanasia\n",
    "\n",
    "**3** - Return_to_owner\n",
    "\n",
    "**4** - Transfer"
   ]
  },
  {
   "cell_type": "code",
   "execution_count": 28,
   "metadata": {},
   "outputs": [],
   "source": [
    "data_nonbinary = pd.get_dummies(data[['AnimalType', 'animalsize', 'sex',\n",
    "       'neutered_fact', 'AgeCategory', \n",
    "         'Color_new', 'mix_breed']])\n",
    "\n",
    "data = pd.concat((data['OutcomeType'], data_nonbinary), axis = 1)"
   ]
  },
  {
   "cell_type": "code",
   "execution_count": 29,
   "metadata": {},
   "outputs": [
    {
     "data": {
      "text/html": [
       "<div>\n",
       "<style scoped>\n",
       "    .dataframe tbody tr th:only-of-type {\n",
       "        vertical-align: middle;\n",
       "    }\n",
       "\n",
       "    .dataframe tbody tr th {\n",
       "        vertical-align: top;\n",
       "    }\n",
       "\n",
       "    .dataframe thead th {\n",
       "        text-align: right;\n",
       "    }\n",
       "</style>\n",
       "<table border=\"1\" class=\"dataframe\">\n",
       "  <thead>\n",
       "    <tr style=\"text-align: right;\">\n",
       "      <th></th>\n",
       "      <th>OutcomeType</th>\n",
       "      <th>AnimalType_Cat</th>\n",
       "      <th>AnimalType_Dog</th>\n",
       "      <th>animalsize_Unknown</th>\n",
       "      <th>animalsize_large</th>\n",
       "      <th>animalsize_medium</th>\n",
       "      <th>animalsize_small</th>\n",
       "      <th>sex_female</th>\n",
       "      <th>sex_male</th>\n",
       "      <th>sex_unknown</th>\n",
       "      <th>...</th>\n",
       "      <th>Color_new_Tan</th>\n",
       "      <th>Color_new_Tan/White</th>\n",
       "      <th>Color_new_Tortie</th>\n",
       "      <th>Color_new_Tricolor</th>\n",
       "      <th>Color_new_White</th>\n",
       "      <th>Color_new_White/Black</th>\n",
       "      <th>Color_new_White/Brown</th>\n",
       "      <th>Color_new_other</th>\n",
       "      <th>mix_breed_mix</th>\n",
       "      <th>mix_breed_not</th>\n",
       "    </tr>\n",
       "  </thead>\n",
       "  <tbody>\n",
       "    <tr>\n",
       "      <th>0</th>\n",
       "      <td>3</td>\n",
       "      <td>0</td>\n",
       "      <td>1</td>\n",
       "      <td>1</td>\n",
       "      <td>0</td>\n",
       "      <td>0</td>\n",
       "      <td>0</td>\n",
       "      <td>0</td>\n",
       "      <td>1</td>\n",
       "      <td>0</td>\n",
       "      <td>...</td>\n",
       "      <td>0</td>\n",
       "      <td>0</td>\n",
       "      <td>0</td>\n",
       "      <td>0</td>\n",
       "      <td>0</td>\n",
       "      <td>0</td>\n",
       "      <td>0</td>\n",
       "      <td>0</td>\n",
       "      <td>1</td>\n",
       "      <td>0</td>\n",
       "    </tr>\n",
       "    <tr>\n",
       "      <th>1</th>\n",
       "      <td>2</td>\n",
       "      <td>1</td>\n",
       "      <td>0</td>\n",
       "      <td>0</td>\n",
       "      <td>0</td>\n",
       "      <td>0</td>\n",
       "      <td>1</td>\n",
       "      <td>1</td>\n",
       "      <td>0</td>\n",
       "      <td>0</td>\n",
       "      <td>...</td>\n",
       "      <td>0</td>\n",
       "      <td>0</td>\n",
       "      <td>0</td>\n",
       "      <td>0</td>\n",
       "      <td>0</td>\n",
       "      <td>0</td>\n",
       "      <td>0</td>\n",
       "      <td>1</td>\n",
       "      <td>1</td>\n",
       "      <td>0</td>\n",
       "    </tr>\n",
       "    <tr>\n",
       "      <th>2</th>\n",
       "      <td>0</td>\n",
       "      <td>0</td>\n",
       "      <td>1</td>\n",
       "      <td>1</td>\n",
       "      <td>0</td>\n",
       "      <td>0</td>\n",
       "      <td>0</td>\n",
       "      <td>0</td>\n",
       "      <td>1</td>\n",
       "      <td>0</td>\n",
       "      <td>...</td>\n",
       "      <td>0</td>\n",
       "      <td>0</td>\n",
       "      <td>0</td>\n",
       "      <td>0</td>\n",
       "      <td>0</td>\n",
       "      <td>0</td>\n",
       "      <td>0</td>\n",
       "      <td>0</td>\n",
       "      <td>1</td>\n",
       "      <td>0</td>\n",
       "    </tr>\n",
       "    <tr>\n",
       "      <th>3</th>\n",
       "      <td>4</td>\n",
       "      <td>1</td>\n",
       "      <td>0</td>\n",
       "      <td>0</td>\n",
       "      <td>0</td>\n",
       "      <td>0</td>\n",
       "      <td>1</td>\n",
       "      <td>0</td>\n",
       "      <td>1</td>\n",
       "      <td>0</td>\n",
       "      <td>...</td>\n",
       "      <td>0</td>\n",
       "      <td>0</td>\n",
       "      <td>0</td>\n",
       "      <td>0</td>\n",
       "      <td>0</td>\n",
       "      <td>0</td>\n",
       "      <td>0</td>\n",
       "      <td>1</td>\n",
       "      <td>1</td>\n",
       "      <td>0</td>\n",
       "    </tr>\n",
       "    <tr>\n",
       "      <th>4</th>\n",
       "      <td>4</td>\n",
       "      <td>0</td>\n",
       "      <td>1</td>\n",
       "      <td>0</td>\n",
       "      <td>0</td>\n",
       "      <td>0</td>\n",
       "      <td>1</td>\n",
       "      <td>0</td>\n",
       "      <td>1</td>\n",
       "      <td>0</td>\n",
       "      <td>...</td>\n",
       "      <td>1</td>\n",
       "      <td>0</td>\n",
       "      <td>0</td>\n",
       "      <td>0</td>\n",
       "      <td>0</td>\n",
       "      <td>0</td>\n",
       "      <td>0</td>\n",
       "      <td>0</td>\n",
       "      <td>0</td>\n",
       "      <td>1</td>\n",
       "    </tr>\n",
       "  </tbody>\n",
       "</table>\n",
       "<p>5 rows × 41 columns</p>\n",
       "</div>"
      ],
      "text/plain": [
       "   OutcomeType  AnimalType_Cat  AnimalType_Dog  animalsize_Unknown  \\\n",
       "0            3               0               1                   1   \n",
       "1            2               1               0                   0   \n",
       "2            0               0               1                   1   \n",
       "3            4               1               0                   0   \n",
       "4            4               0               1                   0   \n",
       "\n",
       "   animalsize_large  animalsize_medium  animalsize_small  sex_female  \\\n",
       "0                 0                  0                 0           0   \n",
       "1                 0                  0                 1           1   \n",
       "2                 0                  0                 0           0   \n",
       "3                 0                  0                 1           0   \n",
       "4                 0                  0                 1           0   \n",
       "\n",
       "   sex_male  sex_unknown  ...  Color_new_Tan  Color_new_Tan/White  \\\n",
       "0         1            0  ...              0                    0   \n",
       "1         0            0  ...              0                    0   \n",
       "2         1            0  ...              0                    0   \n",
       "3         1            0  ...              0                    0   \n",
       "4         1            0  ...              1                    0   \n",
       "\n",
       "   Color_new_Tortie  Color_new_Tricolor  Color_new_White  \\\n",
       "0                 0                   0                0   \n",
       "1                 0                   0                0   \n",
       "2                 0                   0                0   \n",
       "3                 0                   0                0   \n",
       "4                 0                   0                0   \n",
       "\n",
       "   Color_new_White/Black  Color_new_White/Brown  Color_new_other  \\\n",
       "0                      0                      0                0   \n",
       "1                      0                      0                1   \n",
       "2                      0                      0                0   \n",
       "3                      0                      0                1   \n",
       "4                      0                      0                0   \n",
       "\n",
       "   mix_breed_mix  mix_breed_not  \n",
       "0              1              0  \n",
       "1              1              0  \n",
       "2              1              0  \n",
       "3              1              0  \n",
       "4              0              1  \n",
       "\n",
       "[5 rows x 41 columns]"
      ]
     },
     "execution_count": 29,
     "metadata": {},
     "output_type": "execute_result"
    }
   ],
   "source": [
    "data.head()"
   ]
  },
  {
   "cell_type": "markdown",
   "metadata": {},
   "source": [
    "### Параметры\n",
    "\n",
    "Метод случайного леса реализован в библиотеке машинного обучения scikit-learn двумя классами RandomForestClassifier и RandomForestRegressor.\n",
    "\n",
    "\n",
    "Полный список параметров случайного леса для задачи регрессии:\n",
    "\n",
    "\n",
    "**class sklearn.ensemble.RandomForestRegressor**\n",
    "\n",
    "**n_estimators** — число деревьев в \"лесу\" (по дефолту – 10)\n",
    "\n",
    "**criterion** — функция, которая измеряет качество разбиения ветки дерева (по дефолту — \"mse\" , так же можно выбрать \"mae\")\n",
    "\n",
    "**max_features** — число признаков, по которым ищется разбиение. Вы можете указать конкретное число или процент признаков, либо выбрать из доступных значений: \"auto\" (все признаки), \"sqrt\", \"log2\". По дефолту стоит \"auto\".\n",
    "\n",
    "**max_depth** — максимальная глубина дерева  (по дефолту глубина не ограничена)\n",
    "\n",
    "**min_samples_split** — минимальное количество объектов, необходимое для разделения внутреннего узла. Можно задать числом или процентом от общего числа объектов (по дефолту — 2)\n",
    "\n",
    "**min_samples_leaf** — минимальное число объектов в листе. Можно задать числом или процентом от общего числа объектов (по дефолту — 1)\n",
    "\n",
    "**min_weight_fraction_leaf** — минимальная взвешенная доля от общей суммы весов (всех входных объектов) должна быть в листе (по дефолту имеют одинаковый вес)\n",
    "\n",
    "**max_leaf_nodes** — максимальное количество листьев (по дефолту нет ограничения)\n",
    "\n",
    "**min_impurity_split** — порог для остановки наращивания дерева (по дефолту 1е-7)\n",
    "\n",
    "**bootstrap** — применять ли бустрэп для построения дерева (по дефолту True)\n",
    "\n",
    "**oob_score** — использовать ли out-of-bag объекты для оценки R^2 (по дефолту False)\n",
    "\n",
    "**n_jobs** — количество ядер для построения модели и предсказаний (по дефолту 1, если поставить -1, то будут использоваться все ядра)\n",
    "\n",
    "**random_state** — начальное значение для генерации случайных чисел (по дефолту его нет, если хотите воспроизводимые результаты, то нужно указать любое число типа int\n",
    "\n",
    "**verbose** — вывод логов по построению деревьев (по дефолту 0)\n",
    "\n",
    "**warm_start** — использует уже натренированую модель и добавляет деревьев в ансамбль (по дефолту False)\n",
    "\n",
    "\n",
    "Для задачи классификации все почти то же самое, мы приведем только те параметры, которыми RandomForestClassifier отличается от RandomForestRegressor\n",
    "\n",
    "\n",
    "**class sklearn.ensemble.RandomForestClassifier**\n",
    "\n",
    "**criterion** — поскольку у нас теперь задача классификации, то по дефолту выбран критерий \"gini\" (можно выбрать \"entropy\")\n",
    "\n",
    "**class_weight** — вес каждого класса (по дефолту все веса равны 1, но можно передать словарь с весами, либо явно указать \"balanced\", тогда веса классов будут равны их исходным частям в генеральной совокупности; также можно указать \"balanced_subsample\", тогда веса на каждой подвыборке будут меняться в зависимости от распределения классов на этой подвыборке.\n",
    ")\n",
    "\n",
    "Далее рассмотрим несколько параметров, на которые в первую очередь стоит обратить внимание при построении модели:\n",
    "\n",
    "\n",
    "**n_estimators** — число деревьев в \"лесу\"\n",
    "\n",
    "**criterion** — критерий для разбиения выборки в вершине\n",
    "\n",
    "**max_features** — число признаков, по которым ищется разбиение\n",
    "\n",
    "**min_samples_leaf** — минимальное число объектов в листе\n",
    "\n",
    "**max_depth** — максимальная глубина дерева\n",
    "\n",
    "Открытый курс машинного обучения: https://habr.com/ru/company/ods/blog/324402/"
   ]
  },
  {
   "cell_type": "code",
   "execution_count": 30,
   "metadata": {},
   "outputs": [],
   "source": [
    "from sklearn.metrics import classification_report, accuracy_score, confusion_matrix\n",
    "from sklearn.model_selection import train_test_split, GridSearchCV\n",
    "from sklearn.ensemble import RandomForestClassifier"
   ]
  },
  {
   "cell_type": "code",
   "execution_count": 31,
   "metadata": {},
   "outputs": [
    {
     "name": "stderr",
     "output_type": "stream",
     "text": [
      "D:\\programs\\Anaconda\\lib\\site-packages\\sklearn\\ensemble\\forest.py:246: FutureWarning: The default value of n_estimators will change from 10 in version 0.20 to 100 in 0.22.\n",
      "  \"10 in version 0.20 to 100 in 0.22.\", FutureWarning)\n"
     ]
    },
    {
     "name": "stdout",
     "output_type": "stream",
     "text": [
      "              precision    recall  f1-score   support\n",
      "\n",
      "           0       0.62      0.81      0.70      3231\n",
      "           1       0.20      0.02      0.03        59\n",
      "           2       0.26      0.10      0.15       466\n",
      "           3       0.42      0.33      0.37      1436\n",
      "           4       0.70      0.61      0.65      2827\n",
      "\n",
      "   micro avg       0.61      0.61      0.61      8019\n",
      "   macro avg       0.44      0.37      0.38      8019\n",
      "weighted avg       0.59      0.61      0.59      8019\n",
      "\n",
      "0.6066841252026437\n"
     ]
    }
   ],
   "source": [
    "X_train, X_test, y_train, y_test  = train_test_split(data.drop('OutcomeType', axis = 1), data['OutcomeType'], test_size = 0.3,\n",
    "                                                    stratify = data['OutcomeType'], random_state = 11)\n",
    "\n",
    "# Тренировка baseline модели\n",
    "\n",
    "model = RandomForestClassifier(n_jobs = -1, random_state = 42)\n",
    "model.fit(X_train, y_train)\n",
    "y_pred = model.predict(X_test)\n",
    "# Отчёты о точности работы\n",
    "\n",
    "print(classification_report(y_test, y_pred))\n",
    "print(accuracy_score(y_test, y_pred))"
   ]
  },
  {
   "cell_type": "code",
   "execution_count": 32,
   "metadata": {},
   "outputs": [
    {
     "data": {
      "text/plain": [
       "<bound method BaseEstimator.get_params of RandomForestClassifier(bootstrap=True, class_weight=None, criterion='gini',\n",
       "            max_depth=None, max_features='auto', max_leaf_nodes=None,\n",
       "            min_impurity_decrease=0.0, min_impurity_split=None,\n",
       "            min_samples_leaf=1, min_samples_split=2,\n",
       "            min_weight_fraction_leaf=0.0, n_estimators=10, n_jobs=-1,\n",
       "            oob_score=False, random_state=42, verbose=0, warm_start=False)>"
      ]
     },
     "execution_count": 32,
     "metadata": {},
     "output_type": "execute_result"
    }
   ],
   "source": [
    "model.get_params"
   ]
  },
  {
   "cell_type": "code",
   "execution_count": 33,
   "metadata": {},
   "outputs": [
    {
     "name": "stderr",
     "output_type": "stream",
     "text": [
      "D:\\programs\\Anaconda\\lib\\site-packages\\sklearn\\model_selection\\_split.py:2053: FutureWarning: You should specify a value for 'cv' instead of relying on the default value. The default value will change from 3 to 5 in version 0.22.\n",
      "  warnings.warn(CV_WARNING, FutureWarning)\n",
      "[Parallel(n_jobs=-1)]: Using backend LokyBackend with 8 concurrent workers.\n"
     ]
    },
    {
     "name": "stdout",
     "output_type": "stream",
     "text": [
      "Fitting 3 folds for each of 5880 candidates, totalling 17640 fits\n"
     ]
    },
    {
     "name": "stderr",
     "output_type": "stream",
     "text": [
      "[Parallel(n_jobs=-1)]: Done  34 tasks      | elapsed:    4.8s\n",
      "[Parallel(n_jobs=-1)]: Done 184 tasks      | elapsed:   10.9s\n",
      "[Parallel(n_jobs=-1)]: Done 434 tasks      | elapsed:   21.1s\n",
      "[Parallel(n_jobs=-1)]: Done 784 tasks      | elapsed:   35.3s\n",
      "[Parallel(n_jobs=-1)]: Done 1234 tasks      | elapsed:   53.7s\n",
      "[Parallel(n_jobs=-1)]: Done 1784 tasks      | elapsed:  1.3min\n",
      "[Parallel(n_jobs=-1)]: Done 2434 tasks      | elapsed:  1.8min\n",
      "[Parallel(n_jobs=-1)]: Done 3184 tasks      | elapsed:  2.4min\n",
      "[Parallel(n_jobs=-1)]: Done 4034 tasks      | elapsed:  2.9min\n",
      "[Parallel(n_jobs=-1)]: Done 4984 tasks      | elapsed:  3.6min\n",
      "[Parallel(n_jobs=-1)]: Done 6034 tasks      | elapsed:  4.5min\n",
      "[Parallel(n_jobs=-1)]: Done 7184 tasks      | elapsed:  5.5min\n",
      "[Parallel(n_jobs=-1)]: Done 8434 tasks      | elapsed:  6.5min\n",
      "[Parallel(n_jobs=-1)]: Done 9784 tasks      | elapsed:  7.6min\n",
      "[Parallel(n_jobs=-1)]: Done 11234 tasks      | elapsed:  8.8min\n",
      "[Parallel(n_jobs=-1)]: Done 12784 tasks      | elapsed: 10.0min\n",
      "[Parallel(n_jobs=-1)]: Done 14434 tasks      | elapsed: 11.3min\n",
      "[Parallel(n_jobs=-1)]: Done 16184 tasks      | elapsed: 12.7min\n",
      "[Parallel(n_jobs=-1)]: Done 17640 out of 17640 | elapsed: 13.8min finished\n",
      "D:\\programs\\Anaconda\\lib\\site-packages\\sklearn\\ensemble\\forest.py:458: UserWarning: Some inputs do not have OOB scores. This probably means too few trees were used to compute any reliable oob estimates.\n",
      "  warn(\"Some inputs do not have OOB scores. \"\n",
      "D:\\programs\\Anaconda\\lib\\site-packages\\sklearn\\ensemble\\forest.py:463: RuntimeWarning: invalid value encountered in true_divide\n",
      "  predictions[k].sum(axis=1)[:, np.newaxis])\n"
     ]
    },
    {
     "data": {
      "text/plain": [
       "GridSearchCV(cv='warn', error_score='raise-deprecating',\n",
       "       estimator=RandomForestClassifier(bootstrap=True, class_weight=None, criterion='gini',\n",
       "            max_depth=None, max_features='auto', max_leaf_nodes=None,\n",
       "            min_impurity_decrease=0.0, min_impurity_split=None,\n",
       "            min_samples_leaf=1, min_samples_split=2,\n",
       "            min_weight_fraction_leaf=0.0, n_estimators='warn', n_jobs=-1,\n",
       "            oob_score=True, random_state=42, verbose=0, warm_start=False),\n",
       "       fit_params=None, iid='warn', n_jobs=-1,\n",
       "       param_grid={'n_estimators': [1, 3, 5, 7, 9, 11, 15], 'criterion': ['gini', 'entropy'], 'class_weight': [None, 'balanced_subsample', 'balanced'], 'max_features': [1, 3, 4, 6, 8, 15, 30], 'min_samples_leaf': [1, 2, 3, 5, 10], 'max_depth': [2, 5, 10, 20]},\n",
       "       pre_dispatch='2*n_jobs', refit=True, return_train_score='warn',\n",
       "       scoring=None, verbose=1)"
      ]
     },
     "execution_count": 33,
     "metadata": {},
     "output_type": "execute_result"
    }
   ],
   "source": [
    "# Сделаем инициализацию параметров, по которым хотим сделать полный перебор\n",
    "parameters = {'n_estimators': [1, 3, 5, 7, 9, 11, 15], \n",
    "              'criterion': ['gini', 'entropy'],\n",
    "              'class_weight': [None, 'balanced_subsample', 'balanced'],\n",
    "              'max_features': [1, 3, 4, 6, 8, 15, 30], \n",
    "              'min_samples_leaf': [1,2,3, 5, 10], \n",
    "              'max_depth': [2, 5, 10, 20], \n",
    "                }\n",
    "rfc = RandomForestClassifier( random_state=42, \n",
    "                             n_jobs=-1, oob_score=True)\n",
    "gcv = GridSearchCV(rfc, parameters, n_jobs=-1, verbose=1)\n",
    "gcv.fit(X_train, y_train)"
   ]
  },
  {
   "cell_type": "code",
   "execution_count": 34,
   "metadata": {},
   "outputs": [
    {
     "data": {
      "text/plain": [
       "{'class_weight': None,\n",
       " 'criterion': 'gini',\n",
       " 'max_depth': 10,\n",
       " 'max_features': 6,\n",
       " 'min_samples_leaf': 10,\n",
       " 'n_estimators': 15}"
      ]
     },
     "execution_count": 34,
     "metadata": {},
     "output_type": "execute_result"
    }
   ],
   "source": [
    "gcv.best_params_"
   ]
  },
  {
   "cell_type": "code",
   "execution_count": 35,
   "metadata": {},
   "outputs": [
    {
     "name": "stdout",
     "output_type": "stream",
     "text": [
      "              precision    recall  f1-score   support\n",
      "\n",
      "           0       0.60      0.90      0.72      3231\n",
      "           1       0.00      0.00      0.00        59\n",
      "           2       0.75      0.01      0.01       466\n",
      "           3       0.47      0.29      0.36      1436\n",
      "           4       0.74      0.60      0.66      2827\n",
      "\n",
      "   micro avg       0.62      0.62      0.62      8019\n",
      "   macro avg       0.51      0.36      0.35      8019\n",
      "weighted avg       0.63      0.62      0.59      8019\n",
      "\n",
      "0.6247661803217359\n"
     ]
    },
    {
     "name": "stderr",
     "output_type": "stream",
     "text": [
      "D:\\programs\\Anaconda\\lib\\site-packages\\sklearn\\metrics\\classification.py:1143: UndefinedMetricWarning: Precision and F-score are ill-defined and being set to 0.0 in labels with no predicted samples.\n",
      "  'precision', 'predicted', average, warn_for)\n",
      "D:\\programs\\Anaconda\\lib\\site-packages\\sklearn\\metrics\\classification.py:1143: UndefinedMetricWarning: Precision and F-score are ill-defined and being set to 0.0 in labels with no predicted samples.\n",
      "  'precision', 'predicted', average, warn_for)\n",
      "D:\\programs\\Anaconda\\lib\\site-packages\\sklearn\\metrics\\classification.py:1143: UndefinedMetricWarning: Precision and F-score are ill-defined and being set to 0.0 in labels with no predicted samples.\n",
      "  'precision', 'predicted', average, warn_for)\n"
     ]
    }
   ],
   "source": [
    "y_pred_best = gcv.predict(X_test)\n",
    "print(classification_report(y_test, y_pred_best))\n",
    "print(accuracy_score(y_test, y_pred_best))"
   ]
  },
  {
   "cell_type": "markdown",
   "metadata": {},
   "source": [
    "В итоге наша модель, с подобранными по сетке настройками обучается распознаванию больших по численности классов. А именно, классы \"Died\" и \"Euthanasia\" распознаются крайне плохо, так как у нас нет абсолютно никаких маркеров состояния животного за исключением его возраста и факта стерилизации\\кастрации. Возможно, если бы у нас было больше данных (болезни, ожирение/истощение, наличие ран, травм и паразитов и пр.) мы бы смогли делать более точный прогноз относительно данных класов.\n",
    "\n",
    "Кроме того, особенность модели случайного леса состоит в том, что его ручная настройка не дает особого прироста к точности модели.\n",
    "\n",
    "\n",
    "Теперь посмотрим на важность признаков модели."
   ]
  },
  {
   "cell_type": "code",
   "execution_count": 36,
   "metadata": {},
   "outputs": [],
   "source": [
    "importances = model.feature_importances_"
   ]
  },
  {
   "cell_type": "code",
   "execution_count": 37,
   "metadata": {},
   "outputs": [
    {
     "data": {
      "image/png": "[encoded data removed]",
      "text/plain": [
       "<Figure size 720x432 with 1 Axes>"
      ]
     },
     "metadata": {
      "needs_background": "light"
     },
     "output_type": "display_data"
    }
   ],
   "source": [
    "featureImportance = pd.DataFrame({\"feature\": X_train.columns, \"importance\": model.feature_importances_})\n",
    "\n",
    "featureImportance.set_index('feature', inplace=True)\n",
    "featureImportance.sort_values([\"importance\"], ascending=False, inplace=True)\n",
    "featureImportance[\"importance\"].plot('bar', figsize=(10, 6));"
   ]
  },
  {
   "cell_type": "markdown",
   "metadata": {},
   "source": [
    "Помимо обычной визуализации признаков мы можем использовать также библиотеку SHAP для визуализации важности переменных при принятии решения в относительно плохо интерпретируемых моделях. \n",
    "Расчет методики базируется на значении Шэпли. Подробнее описано здесь: \n",
    "https://habr.com/ru/post/428213/\n",
    "\n",
    "С помощью методики можно визуализировать важность признаков в принятии решения как в общем в модели, так и в каждом конкретном случае (наблюдении). Второе лучше делать для бинарной классификации или для регрессионных задач :)"
   ]
  },
  {
   "cell_type": "code",
   "execution_count": 41,
   "metadata": {},
   "outputs": [
    {
     "name": "stderr",
     "output_type": "stream",
     "text": [
      "Setting feature_perturbation = \"tree_path_dependent\" because no background data was given.\n"
     ]
    },
    {
     "data": {
      "image/png": "[encoded data removed]",
      "text/plain": [
       "<Figure size 576x684 with 1 Axes>"
      ]
     },
     "metadata": {
      "needs_background": "light"
     },
     "output_type": "display_data"
    }
   ],
   "source": [
    "#пример использоваия для мультикласса\n",
    "#https://github.com/slundberg/shap/issues/367\n",
    "import shap\n",
    "\n",
    "explainer = shap.TreeExplainer(model)\n",
    "shap_values = explainer.shap_values(X_train,approximate=True)\n",
    "shap.summary_plot(shap_values, X_train, plot_type=\"bar\")"
   ]
  }
 ],
 "metadata": {
  "kernelspec": {
   "display_name": "Python 3",
   "language": "python",
   "name": "python3"
  },
  "language_info": {
   "codemirror_mode": {
    "name": "ipython",
    "version": 3
   },
   "file_extension": ".py",
   "mimetype": "text/x-python",
   "name": "python",
   "nbconvert_exporter": "python",
   "pygments_lexer": "ipython3",
   "version": "3.7.3"
  }
 },
 "nbformat": 4,
 "nbformat_minor": 2
}
